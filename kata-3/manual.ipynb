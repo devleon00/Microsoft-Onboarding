{
 "cells": [
  {
   "cell_type": "markdown",
   "metadata": {},
   "source": [
    "# Ejercicio - Escribir declaraciones if, else, y elif"
   ]
  },
  {
   "cell_type": "markdown",
   "metadata": {},
   "source": [
    "## Ejercicio 1"
   ]
  },
  {
   "cell_type": "code",
   "execution_count": 3,
   "metadata": {},
   "outputs": [
    {
     "name": "stdout",
     "output_type": "stream",
     "text": [
      "¡EEiiuuu Alerta HUYANN!\n"
     ]
    }
   ],
   "source": [
    "asteroideKm = 49\n",
    "if asteroideKm > 25:\n",
    "    print(\"¡EEiiuuu Alerta HUYANN!\")\n",
    "else:\n",
    "    print(\"Todo bien, color serenidad\")"
   ]
  },
  {
   "cell_type": "markdown",
   "metadata": {},
   "source": [
    "## Ejercicio 2"
   ]
  },
  {
   "cell_type": "code",
   "execution_count": 2,
   "metadata": {},
   "outputs": [
    {
     "name": "stdout",
     "output_type": "stream",
     "text": [
      "Disfruten la vida...\n"
     ]
    }
   ],
   "source": [
    "asteroide2Km = 19\n",
    "if asteroide2Km >= 20:\n",
    "    print(\"¡Busquen que se rompa el cielo!\")\n",
    "else:\n",
    "    print(\"Disfruten la vida...\")"
   ]
  },
  {
   "cell_type": "markdown",
   "metadata": {},
   "source": [
    "## Ejercicio 3"
   ]
  },
  {
   "cell_type": "code",
   "execution_count": 1,
   "metadata": {},
   "outputs": [
    {
     "name": "stdout",
     "output_type": "stream",
     "text": [
      "Cuasara daño el cometa, ¡Corre!\n"
     ]
    }
   ],
   "source": [
    "asteroideMetros = 26\n",
    "asteroideVelocidad = 21\n",
    "\n",
    "if asteroideMetros > 25 and asteroideVelocidad > 20:\n",
    "    print(\"Cuasara daño el cometa, ¡Corre!\")\n",
    "elif asteroideVelocidad >= 20:\n",
    "     print(\"¡Busquen que se rompa el cielo!\")\n",
    "else:\n",
    "    print(\"Áun no es el final, sigue\")"
   ]
  }
 ],
 "metadata": {
  "interpreter": {
   "hash": "bdc03a114a25469f9802f24c37805c4ec13b3ac0cedc3d073c2920f816168557"
  },
  "kernelspec": {
   "display_name": "Python 3.10.2 64-bit (windows store)",
   "language": "python",
   "name": "python3"
  },
  "language_info": {
   "codemirror_mode": {
    "name": "ipython",
    "version": 3
   },
   "file_extension": ".py",
   "mimetype": "text/x-python",
   "name": "python",
   "nbconvert_exporter": "python",
   "pygments_lexer": "ipython3",
   "version": "3.10.2"
  },
  "orig_nbformat": 4
 },
 "nbformat": 4,
 "nbformat_minor": 2
}
