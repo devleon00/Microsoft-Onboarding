{
 "cells": [
  {
   "cell_type": "markdown",
   "metadata": {},
   "source": [
    "# Ejercicio - Escribir declaraciones if, else, y elif"
   ]
  },
  {
   "cell_type": "markdown",
   "metadata": {},
   "source": [
    "## Ejercicio 1"
   ]
  },
  {
   "cell_type": "code",
   "execution_count": null,
   "metadata": {},
   "outputs": [],
   "source": [
    "asteroideKm = 49\n",
    "if asteroideKm > 25:\n",
    "    print(\"¡EEiiuuu Alerta HUYANN!\")\n",
    "else:\n",
    "    print(\"Todo bien, color serenidad\")"
   ]
  },
  {
   "cell_type": "markdown",
   "metadata": {},
   "source": [
    "## Ejercicio 2"
   ]
  },
  {
   "cell_type": "code",
   "execution_count": null,
   "metadata": {},
   "outputs": [],
   "source": [
    "asteroide2Km = 19\n",
    "if asteroide2Km >= 20:\n",
    "    print(\"¡Busquen que se rompa el cielo!\")\n",
    "else:\n",
    "    print(\"Disfruten la vida...\")"
   ]
  },
  {
   "cell_type": "markdown",
   "metadata": {},
   "source": [
    "## Ejercicio 3"
   ]
  },
  {
   "cell_type": "code",
   "execution_count": null,
   "metadata": {},
   "outputs": [],
   "source": [
    "asteroideMetros = 26\n",
    "asteroideVelocidad = 21\n",
    "\n",
    "if asteroideMetros > 25 and asteroideVelocidad > 20:\n",
    "    print(\"Cuasara daño el cometa, ¡Corre!\")\n",
    "elif asteroideVelocidad >= 20:\n",
    "     print(\"¡Busquen que se rompa el cielo!\")\n",
    "else:\n",
    "    print(\"Áun no es el final, sigue\")"
   ]
  }
 ],
 "metadata": {
  "language_info": {
   "name": "python"
  },
  "orig_nbformat": 4
 },
 "nbformat": 4,
 "nbformat_minor": 2
}
