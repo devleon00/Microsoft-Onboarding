{
 "cells": [
  {
   "cell_type": "markdown",
   "metadata": {},
   "source": [
    "# Ejercicio1 - Utilizar operadores aritméticos"
   ]
  },
  {
   "cell_type": "code",
   "execution_count": 4,
   "metadata": {},
   "outputs": [
    {
     "name": "stdout",
     "output_type": "stream",
     "text": [
      "628949330\n",
      "393093331.25\n"
     ]
    }
   ],
   "source": [
    "tierra = 149597870\n",
    "jupiter = 778547200 \n",
    "distancia = jupiter - tierra\n",
    "print(distancia)\n",
    "print(distancia / 1.6)"
   ]
  },
  {
   "cell_type": "markdown",
   "metadata": {},
   "source": [
    "# Ejercicio 2: convierte cadenas en números y usa valores absolutos"
   ]
  },
  {
   "cell_type": "code",
   "execution_count": 4,
   "metadata": {},
   "outputs": [
    {
     "name": "stdout",
     "output_type": "stream",
     "text": [
      "0.621\n"
     ]
    }
   ],
   "source": [
    "primer_planeta = int(input(\"Ingrese el valor del primer planeta: \"))\n",
    "segundo_planeta = int(input(\"Ingrese el valor del segundo planeta: \"))\n",
    "\n",
    "print((abs(primer_planeta - segundo_planeta)) * 0.621)"
   ]
  }
 ],
 "metadata": {
  "interpreter": {
   "hash": "bdc03a114a25469f9802f24c37805c4ec13b3ac0cedc3d073c2920f816168557"
  },
  "kernelspec": {
   "display_name": "Python 3.10.2 64-bit (windows store)",
   "language": "python",
   "name": "python3"
  },
  "language_info": {
   "codemirror_mode": {
    "name": "ipython",
    "version": 3
   },
   "file_extension": ".py",
   "mimetype": "text/x-python",
   "name": "python",
   "nbconvert_exporter": "python",
   "pygments_lexer": "ipython3",
   "version": "3.10.2"
  },
  "orig_nbformat": 4
 },
 "nbformat": 4,
 "nbformat_minor": 2
}
